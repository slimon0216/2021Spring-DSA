{
 "cells": [
  {
   "cell_type": "code",
   "execution_count": 2,
   "metadata": {},
   "outputs": [],
   "source": [
    "import random"
   ]
  },
  {
   "cell_type": "code",
   "execution_count": 23,
   "metadata": {},
   "outputs": [],
   "source": [
    "def generate(k, n):\n",
    "    data = ''\n",
    "    for i in range(n):\n",
    "        mode = random.randint(1,3)\n",
    "        cmd = ''\n",
    "        if mode == 1:\n",
    "    #         k = random.randint(2, 10**3)\n",
    "    #         n = random.randint(1, 10**6)\n",
    "            cmd = 'enter '+ str(random.randint(2, k-1)) + ' ' + str(random.randint(1, n))\n",
    "        elif mode == 2:\n",
    "            cmd = 'leave ' + str(random.randint(0, k-1))\n",
    "        elif mode == 3:\n",
    "            ra = random.randint(0, k-1)\n",
    "            rb = random.randint(0, k-1)\n",
    "            while (ra == rb):\n",
    "                rb = random.randint(0, k-1)\n",
    "            cmd = 'migrate ' + str(ra) + ' ' + str(rb)\n",
    "        data = data + cmd + '\\n'\n",
    "    return data"
   ]
  },
  {
   "cell_type": "code",
   "execution_count": 24,
   "metadata": {},
   "outputs": [],
   "source": [
    "#  1 ≤ n ≤ 1000000\n",
    "# 2. 2 ≤ k ≤ 1000\n",
    "# 3. 0 ≤ r, ra, rb < k, ra ̸= rb\n",
    "# 4. 0 ≤ l ≤ 104\n",
    "# , noted that l is not necessarily identica"
   ]
  },
  {
   "cell_type": "code",
   "execution_count": 25,
   "metadata": {},
   "outputs": [],
   "source": [
    "k = 3\n",
    "n = 1000\n",
    "with open('test.txt', 'w', encoding='utf-8') as f:\n",
    "    f.write(str(k) + ' ' + str(n) + '\\n')\n",
    "    f.write(generate(k, n))"
   ]
  },
  {
   "cell_type": "code",
   "execution_count": null,
   "metadata": {},
   "outputs": [],
   "source": []
  }
 ],
 "metadata": {
  "kernelspec": {
   "display_name": "Python 3",
   "language": "python",
   "name": "python3"
  },
  "language_info": {
   "codemirror_mode": {
    "name": "ipython",
    "version": 3
   },
   "file_extension": ".py",
   "mimetype": "text/x-python",
   "name": "python",
   "nbconvert_exporter": "python",
   "pygments_lexer": "ipython3",
   "version": "3.8.5"
  }
 },
 "nbformat": 4,
 "nbformat_minor": 2
}
