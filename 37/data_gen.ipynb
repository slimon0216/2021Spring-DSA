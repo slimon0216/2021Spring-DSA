{
 "metadata": {
  "language_info": {
   "codemirror_mode": {
    "name": "ipython",
    "version": 3
   },
   "file_extension": ".py",
   "mimetype": "text/x-python",
   "name": "python",
   "nbconvert_exporter": "python",
   "pygments_lexer": "ipython3",
   "version": "3.8.6-final"
  },
  "orig_nbformat": 2,
  "kernelspec": {
   "name": "python3",
   "display_name": "Python 3.8.6 64-bit",
   "metadata": {
    "interpreter": {
     "hash": "3d7eec1ce7e7b2e00b250be51d8478cd41f873638ee03471409c140d7b8c27d2"
    }
   }
  }
 },
 "nbformat": 4,
 "nbformat_minor": 2,
 "cells": [
  {
   "cell_type": "code",
   "execution_count": 1,
   "metadata": {},
   "outputs": [],
   "source": [
    "import random"
   ]
  },
  {
   "cell_type": "code",
   "execution_count": 8,
   "metadata": {},
   "outputs": [],
   "source": [
    "n = 10\n",
    "q = 10"
   ]
  },
  {
   "cell_type": "code",
   "execution_count": 33,
   "metadata": {},
   "outputs": [],
   "source": [
    "def generate(n):\n",
    "    i = random.randint(1, n)\n",
    "    x = random.randint(-1000,1000)\n",
    "    return 'Insert ' + str(i) + ' ' + str(x) + '\\n'"
   ]
  },
  {
   "cell_type": "code",
   "execution_count": 34,
   "metadata": {},
   "outputs": [
    {
     "output_type": "execute_result",
     "data": {
      "text/plain": [
       "['50', '-67', '-81', '34', '-83', '-31', '50', '-45', '-40', '82']"
      ]
     },
     "metadata": {},
     "execution_count": 34
    }
   ],
   "source": [
    "seq = [str(random.randrange(-100,100)) for i in range(n)]\n",
    "seq"
   ]
  },
  {
   "cell_type": "code",
   "execution_count": 35,
   "metadata": {},
   "outputs": [],
   "source": [
    "with open('test.in', 'w', encoding='utf-8') as f:\n",
    "    f.write(\"{} {}\\n\".format(n,q))\n",
    "    f.write(' '.join(seq)+'\\n')\n",
    "    for i in range(q):\n",
    "        f.write(generate(n))"
   ]
  },
  {
   "cell_type": "code",
   "execution_count": 36,
   "metadata": {},
   "outputs": [
    {
     "output_type": "execute_result",
     "data": {
      "text/plain": [
       "'50 -67 -81 34 -83 -31 50 -45 -40 82'"
      ]
     },
     "metadata": {},
     "execution_count": 36
    }
   ],
   "source": [
    "\" \".join(seq)"
   ]
  },
  {
   "cell_type": "code",
   "execution_count": null,
   "metadata": {},
   "outputs": [],
   "source": []
  }
 ]
}